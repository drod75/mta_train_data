{
 "cells": [
  {
   "cell_type": "code",
   "execution_count": 1,
   "metadata": {},
   "outputs": [],
   "source": [
    "import pandas as pd"
   ]
  },
  {
   "cell_type": "code",
   "execution_count": 2,
   "metadata": {},
   "outputs": [
    {
     "data": {
      "text/html": [
       "<div>\n",
       "<style scoped>\n",
       "    .dataframe tbody tr th:only-of-type {\n",
       "        vertical-align: middle;\n",
       "    }\n",
       "\n",
       "    .dataframe tbody tr th {\n",
       "        vertical-align: top;\n",
       "    }\n",
       "\n",
       "    .dataframe thead th {\n",
       "        text-align: right;\n",
       "    }\n",
       "</style>\n",
       "<table border=\"1\" class=\"dataframe\">\n",
       "  <thead>\n",
       "    <tr style=\"text-align: right;\">\n",
       "      <th></th>\n",
       "      <th>sum_ridership</th>\n",
       "      <th>borough</th>\n",
       "      <th>latitude</th>\n",
       "      <th>longitude</th>\n",
       "      <th>station_complex_id</th>\n",
       "      <th>station_complex</th>\n",
       "    </tr>\n",
       "  </thead>\n",
       "  <tbody>\n",
       "    <tr>\n",
       "      <th>0</th>\n",
       "      <td>2417717</td>\n",
       "      <td>Queens</td>\n",
       "      <td>40.775036</td>\n",
       "      <td>-73.912030</td>\n",
       "      <td>1</td>\n",
       "      <td>Astoria-Ditmars Blvd (N,W)</td>\n",
       "    </tr>\n",
       "    <tr>\n",
       "      <th>1</th>\n",
       "      <td>4549642</td>\n",
       "      <td>Manhattan</td>\n",
       "      <td>40.759900</td>\n",
       "      <td>-73.984140</td>\n",
       "      <td>10</td>\n",
       "      <td>49 St (N,R,W)</td>\n",
       "    </tr>\n",
       "    <tr>\n",
       "      <th>2</th>\n",
       "      <td>483744</td>\n",
       "      <td>Brooklyn</td>\n",
       "      <td>40.706870</td>\n",
       "      <td>-73.953430</td>\n",
       "      <td>100</td>\n",
       "      <td>Hewes St (M,J)</td>\n",
       "    </tr>\n",
       "    <tr>\n",
       "      <th>3</th>\n",
       "      <td>2077714</td>\n",
       "      <td>Brooklyn</td>\n",
       "      <td>40.708360</td>\n",
       "      <td>-73.957756</td>\n",
       "      <td>101</td>\n",
       "      <td>Marcy Av (M,J,Z)</td>\n",
       "    </tr>\n",
       "    <tr>\n",
       "      <th>4</th>\n",
       "      <td>635636</td>\n",
       "      <td>Manhattan</td>\n",
       "      <td>40.720280</td>\n",
       "      <td>-73.993910</td>\n",
       "      <td>103</td>\n",
       "      <td>Bowery (J,Z)</td>\n",
       "    </tr>\n",
       "  </tbody>\n",
       "</table>\n",
       "</div>"
      ],
      "text/plain": [
       "   sum_ridership    borough   latitude  longitude station_complex_id  \\\n",
       "0        2417717     Queens  40.775036 -73.912030                  1   \n",
       "1        4549642  Manhattan  40.759900 -73.984140                 10   \n",
       "2         483744   Brooklyn  40.706870 -73.953430                100   \n",
       "3        2077714   Brooklyn  40.708360 -73.957756                101   \n",
       "4         635636  Manhattan  40.720280 -73.993910                103   \n",
       "\n",
       "              station_complex  \n",
       "0  Astoria-Ditmars Blvd (N,W)  \n",
       "1               49 St (N,R,W)  \n",
       "2              Hewes St (M,J)  \n",
       "3            Marcy Av (M,J,Z)  \n",
       "4                Bowery (J,Z)  "
      ]
     },
     "execution_count": 2,
     "metadata": {},
     "output_type": "execute_result"
    }
   ],
   "source": [
    "df = pd.read_json('https://data.ny.gov/resource/wujg-7c2s.json?$query=SELECT%0A%20%20sum(%60ridership%60)%20AS%20%60sum_ridership%60%2C%0A%20%20%60borough%60%2C%0A%20%20%60latitude%60%2C%0A%20%20%60longitude%60%2C%0A%20%20%60station_complex_id%60%2C%0A%20%20%60station_complex%60%0AWHERE%0A%20%20%60transit_timestamp%60%0A%20%20%20%20BETWEEN%20%222024-01-01T00%3A00%3A00%22%20%3A%3A%20floating_timestamp%0A%20%20%20%20AND%20%222024-10-01T15%3A50%3A52%22%20%3A%3A%20floating_timestamp%0AGROUP%20BY%0A%20%20%60station_complex_id%60%2C%0A%20%20%60station_complex%60%2C%0A%20%20%60borough%60%2C%0A%20%20%60latitude%60%2C%0A%20%20%60longitude%60')\n",
    "df.head()"
   ]
  },
  {
   "cell_type": "code",
   "execution_count": null,
   "metadata": {},
   "outputs": [],
   "source": [
    "df = df[['station_complex_id','station_complex','borough','latitude','longitude','sum_ridership']]\n",
    "df = df.rename(columns={'station_complex_id':'station_id', 'station_complex':'station'})\n",
    "df.columns = df.columns.str.upper()\n",
    "df.head()"
   ]
  },
  {
   "cell_type": "code",
   "execution_count": null,
   "metadata": {},
   "outputs": [],
   "source": [
    "df.to_csv('streamlit_app\\data\\mta_cleaned_data.csv',index=False)"
   ]
  },
  {
   "cell_type": "code",
   "execution_count": null,
   "metadata": {},
   "outputs": [],
   "source": []
  }
 ],
 "metadata": {
  "kernelspec": {
   "display_name": "base",
   "language": "python",
   "name": "python3"
  },
  "language_info": {
   "codemirror_mode": {
    "name": "ipython",
    "version": 3
   },
   "file_extension": ".py",
   "mimetype": "text/x-python",
   "name": "python",
   "nbconvert_exporter": "python",
   "pygments_lexer": "ipython3",
   "version": "3.12.3"
  }
 },
 "nbformat": 4,
 "nbformat_minor": 2
}
